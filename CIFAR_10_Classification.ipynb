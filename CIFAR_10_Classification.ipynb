{
  "cells": [
    {
      "cell_type": "markdown",
      "metadata": {
        "id": "view-in-github",
        "colab_type": "text"
      },
      "source": [
        "<a href=\"https://colab.research.google.com/github/raiyan-chowdhury/cifar-10-classifier/blob/main/CIFAR_10_Classification.ipynb\" target=\"_parent\"><img src=\"https://colab.research.google.com/assets/colab-badge.svg\" alt=\"Open In Colab\"/></a>"
      ]
    },
    {
      "cell_type": "markdown",
      "metadata": {
        "id": "rQFPWur_3J20"
      },
      "source": [
        "Raiyan Chowdhury\n",
        "\n",
        "Student ID: 200354875\n",
        "\n",
        "---\n",
        "\n",
        "# ECS659U - Coursework\n",
        "\n",
        "* Pipeline for training a model:\n",
        "  1. Read the dataset and create the appropriate dataloaders.\n",
        "  1. Create and initialise the model.\n",
        "  1. Create the loss and the optimiser.\n",
        "  1. Create the training function.\n",
        "  1. Train and evaluate the model.\n",
        "\n",
        "---\n",
        "\n",
        "## Reference for the CIFAR-10 dataset report\n",
        "\n",
        "Krizhevsky, A. (2009). *Learning multiple layers of features from tiny images*. Tech Report, Chapter 3. Available at: [http://www.cs.toronto.edu/~kriz/learning-features-2009-TR.pdf](http://www.cs.toronto.edu/~kriz/learning-features-2009-TR.pdf) (Accessed: 14 March 2024)."
      ]
    },
    {
      "cell_type": "code",
      "execution_count": null,
      "metadata": {
        "id": "5POfABtT3-om"
      },
      "outputs": [],
      "source": [
        "import torch\n",
        "import torch.nn as nn\n",
        "import torchvision\n",
        "import torchvision.transforms as transforms\n",
        "import matplotlib.pyplot as plt"
      ]
    },
    {
      "cell_type": "code",
      "execution_count": null,
      "metadata": {
        "colab": {
          "base_uri": "https://localhost:8080/"
        },
        "id": "yTB4NOYN5Heg",
        "outputId": "34bd1e71-f742-4a64-e112-f1524b88cb2e"
      },
      "outputs": [
        {
          "output_type": "stream",
          "name": "stdout",
          "text": [
            "Downloading https://www.cs.toronto.edu/~kriz/cifar-10-python.tar.gz to ./data/cifar-10-python.tar.gz\n"
          ]
        },
        {
          "output_type": "stream",
          "name": "stderr",
          "text": [
            "100%|██████████| 170498071/170498071 [00:13<00:00, 12823068.91it/s]\n"
          ]
        },
        {
          "output_type": "stream",
          "name": "stdout",
          "text": [
            "Extracting ./data/cifar-10-python.tar.gz to ./data\n",
            "Files already downloaded and verified\n"
          ]
        }
      ],
      "source": [
        "# 1: Read dataset and create dataloaders\n",
        "\n",
        "# Convert and normalise the images to tensors\n",
        "transform = transforms.Compose([\n",
        "    transforms.Resize((32,32)),\n",
        "    transforms.ToTensor(),\n",
        "    transforms.Normalize(mean=[0.4914, 0.4822, 0.4465],std=[0.2023, 0.1994, 0.2010])\n",
        "])\n",
        "\n",
        "# Import the dataset and dataloader\n",
        "datasets = torchvision.datasets\n",
        "data = torch.utils.data\n",
        "\n",
        "# Load training set\n",
        "trainset = datasets.CIFAR10(root='./data', train=True, download=True, transform=transform)\n",
        "trainloader = data.DataLoader(trainset, batch_size=64, shuffle=True)\n",
        "\n",
        "# Load test set\n",
        "testset = datasets.CIFAR10(root='./data', train=False, download=True, transform=transform)\n",
        "testloader = data.DataLoader(testset, batch_size=64, shuffle=False)\n",
        "\n",
        "classes = ('plane', 'car', 'bird', 'cat',\n",
        "           'deer', 'dog', 'frog', 'horse', 'ship', 'truck')"
      ]
    },
    {
      "cell_type": "code",
      "execution_count": null,
      "metadata": {
        "id": "5TlQOMUA6A-k"
      },
      "outputs": [],
      "source": [
        "# 2: Create the model\n",
        "class Block(nn.Module):\n",
        "    def __init__(self, in_channels, out_channels):\n",
        "        super(Block, self).__init__()\n",
        "        # Spatial average pooling layer\n",
        "        self.avg_pool = nn.AdaptiveAvgPool2d((1, 1))\n",
        "\n",
        "        # Flatten layer\n",
        "        self.Fltn = nn.Flatten()\n",
        "\n",
        "        # MLP to predict weights for convolutional layers\n",
        "        self.fc1 = nn.Linear(in_channels, 128)\n",
        "        self.bn_fc1 = nn.BatchNorm1d(128)\n",
        "\n",
        "        self.fc2 = nn.Linear(128, 64)\n",
        "        self.bn_fc2 = nn.BatchNorm1d(64)\n",
        "\n",
        "        self.fc3 = nn.Linear(64, 2)\n",
        "\n",
        "        # First convolutional layer\n",
        "        self.conv1 = nn.Conv2d(in_channels, out_channels, kernel_size=3, padding=1)\n",
        "        self.bn1 = nn.BatchNorm2d(out_channels)\n",
        "\n",
        "        # Second convolutional layer\n",
        "        self.conv2 = nn.Conv2d(in_channels, out_channels, kernel_size=3, padding=1)\n",
        "        self.bn2 = nn.BatchNorm2d(out_channels)\n",
        "\n",
        "        self.relu = nn.ReLU(inplace=True)\n",
        "        self.max_pool = nn.MaxPool2d(2, 2)\n",
        "\n",
        "        # Dropout layers for regularisation of convolutional layers\n",
        "        self.dropout1 = nn.Dropout(0.45)\n",
        "        self.dropout2 = nn.Dropout(0.35)\n",
        "\n",
        "    def forward(self, x):\n",
        "        # Calculate spatial average pool\n",
        "        out = self.avg_pool(x)\n",
        "\n",
        "        # Flatten the output\n",
        "        out = self.Fltn(out)\n",
        "\n",
        "        out = self.fc1(out)\n",
        "        out = self.bn_fc1(out)\n",
        "        out = self.relu(out)\n",
        "\n",
        "        out = self.fc2(out)\n",
        "        out = self.bn_fc2(out)\n",
        "        out = self.relu(out)\n",
        "\n",
        "        # Last fully connected layer to predict weights for convolutional layers\n",
        "        out = self.fc3(out)\n",
        "\n",
        "        # Apply ReLU to ensure non-negative weights\n",
        "        weights = self.relu(out)\n",
        "\n",
        "        # First convolutional layer\n",
        "        out1 = self.conv1(x)\n",
        "        out1 = self.bn1(out1)\n",
        "        out1 = self.relu(out1)\n",
        "        out1 = self.max_pool(out1)\n",
        "        out1 = self.dropout1(out1)\n",
        "\n",
        "        # Second convolutional layer\n",
        "        out2 = self.conv2(x)\n",
        "        out2 = self.bn2(out2)\n",
        "        out2 = self.relu(out2)\n",
        "        out2 = self.max_pool(out2)\n",
        "        out2 = self.dropout2(out2)\n",
        "\n",
        "        # Combine the two convolutional layers with weighted sums\n",
        "        out = weights[:, 0].view(-1, 1, 1, 1) * out1 + \\\n",
        "              weights[:, 1].view(-1, 1, 1, 1) * out2\n",
        "\n",
        "        return out\n",
        "\n",
        "class Backbone(nn.Module):\n",
        "    def __init__(self):\n",
        "        super(Backbone, self).__init__()\n",
        "        # Four blocks in the backbone\n",
        "        self.block1 = Block(3, 128)\n",
        "        self.block2 = Block(128, 256)\n",
        "        self.block3 = Block(256, 256)\n",
        "        self.block4 = Block(256, 256)\n",
        "\n",
        "    def forward(self, x):\n",
        "        # Forward pass through each block\n",
        "        out = self.block1(x)\n",
        "        out = self.block2(out)\n",
        "        out = self.block3(out)\n",
        "        out = self.block4(out)\n",
        "        return out\n",
        "\n",
        "class Classifier(nn.Module):\n",
        "    def __init__(self):\n",
        "        super(Classifier, self).__init__()\n",
        "        # Spatial average pooling layer\n",
        "        self.avg_pool = nn.AdaptiveAvgPool2d((1, 1))\n",
        "\n",
        "        # Flatten layer\n",
        "        self.Fltn = nn.Flatten()\n",
        "\n",
        "        # MLP\n",
        "        self.fc1 = nn.Linear(256, 128)\n",
        "        self.fc2 = nn.Linear(128, 64)\n",
        "        self.fc3 = nn.Linear(64, 10)\n",
        "\n",
        "        self.relu = nn.ReLU(inplace=True)\n",
        "\n",
        "        # Batch normalization layers for regularisation\n",
        "        self.bn1 = nn.BatchNorm1d(128)\n",
        "        self.bn2 = nn.BatchNorm1d(64)\n",
        "\n",
        "    def forward(self, x):\n",
        "        # Calculate spatial average pool\n",
        "        out = self.avg_pool(x)\n",
        "\n",
        "        # Flatten the output\n",
        "        out = self.Fltn(out)\n",
        "\n",
        "        # MLP with batch normalization\n",
        "        out = self.fc1(out)\n",
        "        out = self.bn1(out)\n",
        "        out = self.relu(out)\n",
        "\n",
        "        out = self.fc2(out)\n",
        "        out = self.bn2(out)\n",
        "        out = self.relu(out)\n",
        "\n",
        "        # Output layer for producing raw scores/logits for 10 classes\n",
        "        out = self.fc3(out)\n",
        "\n",
        "        return out\n",
        "\n",
        "class CNN(nn.Module):\n",
        "    def __init__(self):\n",
        "        super(CNN, self).__init__()\n",
        "        # Instantiate backbone and classifier\n",
        "        self.backbone = Backbone()\n",
        "        self.classifier = Classifier()\n",
        "\n",
        "    def forward(self, x):\n",
        "        # Forward pass through backbone and classifier\n",
        "        out = self.backbone(x)\n",
        "        out = self.classifier(out)\n",
        "        return out"
      ]
    },
    {
      "cell_type": "code",
      "execution_count": null,
      "metadata": {
        "id": "f963xgw16M6F"
      },
      "outputs": [],
      "source": [
        "# 3: Create the loss and optimizer\n",
        "model = CNN()\n",
        "loss = nn.CrossEntropyLoss()\n",
        "device = torch.device(\"cuda\" if torch.cuda.is_available() else \"cpu\")\n",
        "model.to(device)\n",
        "optimizer = torch.optim.Adam(model.parameters(), lr=0.0004)"
      ]
    },
    {
      "cell_type": "code",
      "execution_count": null,
      "metadata": {
        "id": "GYsc8ege6Snn"
      },
      "outputs": [],
      "source": [
        "# 4: Create the training function\n",
        "def train(model, trainloader, loss, optimizer, num_epochs):\n",
        "    train_loss_history = []\n",
        "    test_loss_history = []\n",
        "    train_accuracy_history = []\n",
        "    test_accuracy_history = []\n",
        "\n",
        "    for epoch in range(num_epochs):\n",
        "        running_train_loss = 0.0\n",
        "        running_test_loss = 0.0\n",
        "        correct_train = 0\n",
        "        total_train = 0\n",
        "\n",
        "        # Training loop\n",
        "        model.train()\n",
        "        for i, data in enumerate(trainloader, 0):\n",
        "            inputs, labels = data[0].to(device), data[1].to(device)\n",
        "\n",
        "            # Forward pass\n",
        "            outputs = model(inputs)\n",
        "            l = loss(outputs, labels)\n",
        "\n",
        "            # Backward pass\n",
        "            optimizer.zero_grad()\n",
        "            l.backward()\n",
        "            optimizer.step()\n",
        "\n",
        "            # Accumulate training loss\n",
        "            running_train_loss += l.item()\n",
        "\n",
        "            # Calculating training accuracy\n",
        "            _, predicted = torch.max(outputs.data, 1)\n",
        "            total_train += labels.size(0)\n",
        "            correct_train += (predicted == labels).sum().item()\n",
        "\n",
        "        # Calculate and store training accuracy and loss for this epoch\n",
        "        train_accuracy = correct_train / total_train\n",
        "        train_accuracy_history.append(train_accuracy)\n",
        "        train_loss_history.append(running_train_loss / len(trainloader))\n",
        "\n",
        "        # Evaluating test accuracy and loss\n",
        "        model.eval()\n",
        "        correct_test = 0\n",
        "        total_test = 0\n",
        "        with torch.no_grad():\n",
        "            for data in testloader:\n",
        "                inputs, labels = data[0].to(device), data[1].to(device)\n",
        "                outputs = model(inputs)\n",
        "\n",
        "                # Calculate testing loss\n",
        "                l = loss(outputs, labels)\n",
        "                running_test_loss += l.item()\n",
        "\n",
        "                # Calculate testing accuracy\n",
        "                _, predicted = torch.max(outputs.data, 1)\n",
        "                total_test += labels.size(0)\n",
        "                correct_test += (predicted == labels).sum().item()\n",
        "\n",
        "        # Calculate and store testing accuracy and loss for this epoch\n",
        "        test_accuracy = correct_test / total_test\n",
        "        test_accuracy_history.append(test_accuracy)\n",
        "        test_loss_history.append(running_test_loss / len(testloader))\n",
        "\n",
        "        print(f'Epoch [{epoch+1}/{num_epochs}], '\n",
        "              f'Training Loss: {train_loss_history[-1]:.4f}, '\n",
        "              f'Testing Loss: {test_loss_history[-1]:.4f}, '\n",
        "              f'Training Accuracy: {train_accuracy * 100:.2f}%, '\n",
        "              f'Test Accuracy: {test_accuracy * 100:.2f}%')\n",
        "\n",
        "    print('Finished Training')\n",
        "    return train_loss_history, train_accuracy_history, test_loss_history, test_accuracy_history"
      ]
    },
    {
      "cell_type": "code",
      "execution_count": null,
      "metadata": {
        "colab": {
          "base_uri": "https://localhost:8080/"
        },
        "id": "ysyJUTbgYd7Y",
        "outputId": "b0041213-17bc-4743-eb8a-ac308a81bdf3"
      },
      "outputs": [
        {
          "output_type": "stream",
          "name": "stdout",
          "text": [
            "Epoch [1/30], Training Loss: 2.0804, Testing Loss: 1.8811, Training Accuracy: 21.23%, Test Accuracy: 29.94%\n",
            "Epoch [2/30], Training Loss: 1.4030, Testing Loss: 1.2249, Training Accuracy: 48.63%, Test Accuracy: 55.98%\n",
            "Epoch [3/30], Training Loss: 1.1114, Testing Loss: 1.0073, Training Accuracy: 60.28%, Test Accuracy: 64.84%\n",
            "Epoch [4/30], Training Loss: 0.9666, Testing Loss: 0.8461, Training Accuracy: 65.65%, Test Accuracy: 70.93%\n",
            "Epoch [5/30], Training Loss: 0.8725, Testing Loss: 0.7889, Training Accuracy: 69.28%, Test Accuracy: 72.59%\n",
            "Epoch [6/30], Training Loss: 0.8010, Testing Loss: 0.7605, Training Accuracy: 71.85%, Test Accuracy: 73.37%\n",
            "Epoch [7/30], Training Loss: 0.7553, Testing Loss: 0.6942, Training Accuracy: 73.40%, Test Accuracy: 75.67%\n",
            "Epoch [8/30], Training Loss: 0.7088, Testing Loss: 0.6471, Training Accuracy: 75.15%, Test Accuracy: 77.41%\n",
            "Epoch [9/30], Training Loss: 0.6657, Testing Loss: 0.6262, Training Accuracy: 76.76%, Test Accuracy: 77.87%\n",
            "Epoch [10/30], Training Loss: 0.6342, Testing Loss: 0.5699, Training Accuracy: 77.85%, Test Accuracy: 80.16%\n",
            "Epoch [11/30], Training Loss: 0.6033, Testing Loss: 0.5562, Training Accuracy: 79.03%, Test Accuracy: 80.99%\n",
            "Epoch [12/30], Training Loss: 0.5827, Testing Loss: 0.5855, Training Accuracy: 79.71%, Test Accuracy: 79.74%\n",
            "Epoch [13/30], Training Loss: 0.5509, Testing Loss: 0.5191, Training Accuracy: 80.66%, Test Accuracy: 82.08%\n",
            "Epoch [14/30], Training Loss: 0.5323, Testing Loss: 0.4997, Training Accuracy: 81.40%, Test Accuracy: 82.57%\n",
            "Epoch [15/30], Training Loss: 0.5084, Testing Loss: 0.5048, Training Accuracy: 82.50%, Test Accuracy: 82.32%\n",
            "Epoch [16/30], Training Loss: 0.4937, Testing Loss: 0.5129, Training Accuracy: 82.83%, Test Accuracy: 82.70%\n",
            "Epoch [17/30], Training Loss: 0.4728, Testing Loss: 0.4874, Training Accuracy: 83.73%, Test Accuracy: 83.11%\n",
            "Epoch [18/30], Training Loss: 0.4584, Testing Loss: 0.4952, Training Accuracy: 83.88%, Test Accuracy: 83.20%\n",
            "Epoch [19/30], Training Loss: 0.4399, Testing Loss: 0.4767, Training Accuracy: 84.66%, Test Accuracy: 83.97%\n",
            "Epoch [20/30], Training Loss: 0.4227, Testing Loss: 0.4672, Training Accuracy: 85.31%, Test Accuracy: 84.04%\n",
            "Epoch [21/30], Training Loss: 0.4119, Testing Loss: 0.4685, Training Accuracy: 85.59%, Test Accuracy: 84.34%\n",
            "Epoch [22/30], Training Loss: 0.3986, Testing Loss: 0.4750, Training Accuracy: 86.07%, Test Accuracy: 84.09%\n",
            "Epoch [23/30], Training Loss: 0.3821, Testing Loss: 0.4893, Training Accuracy: 86.77%, Test Accuracy: 83.90%\n",
            "Epoch [24/30], Training Loss: 0.3708, Testing Loss: 0.4680, Training Accuracy: 86.90%, Test Accuracy: 84.52%\n",
            "Epoch [25/30], Training Loss: 0.3587, Testing Loss: 0.4555, Training Accuracy: 87.35%, Test Accuracy: 85.19%\n",
            "Epoch [26/30], Training Loss: 0.3508, Testing Loss: 0.4432, Training Accuracy: 87.68%, Test Accuracy: 85.34%\n",
            "Epoch [27/30], Training Loss: 0.3330, Testing Loss: 0.4480, Training Accuracy: 88.28%, Test Accuracy: 85.51%\n",
            "Epoch [28/30], Training Loss: 0.3290, Testing Loss: 0.4695, Training Accuracy: 88.49%, Test Accuracy: 84.83%\n",
            "Epoch [29/30], Training Loss: 0.3166, Testing Loss: 0.4743, Training Accuracy: 89.02%, Test Accuracy: 84.85%\n",
            "Epoch [30/30], Training Loss: 0.3067, Testing Loss: 0.4333, Training Accuracy: 89.20%, Test Accuracy: 86.08%\n",
            "Finished Training\n"
          ]
        }
      ],
      "source": [
        "# 5: Train the model\n",
        "num_epochs = 30\n",
        "train_loss_history, train_accuracy_history, test_loss_history, test_accuracy_history = train(model, trainloader, loss, optimizer, num_epochs)"
      ]
    },
    {
      "cell_type": "code",
      "execution_count": null,
      "metadata": {
        "colab": {
          "base_uri": "https://localhost:8080/",
          "height": 54
        },
        "id": "2F-hH6LD4ygN",
        "outputId": "410edf58-85d5-4d2a-c889-c89a5a99f008"
      },
      "outputs": [
        {
          "output_type": "display_data",
          "data": {
            "text/plain": [
              "<Figure size 500x300 with 1 Axes>"
            ],
            "image/png": "[encoded data removed]"
          },
          "metadata": {}
        }
      ],
      "source": [
        "# Plot the loss curves\n",
        "plt.figure(figsize=(5, 3))\n",
        "plt.plot(train_loss_history, label='Training Loss')\n",
        "plt.plot(test_loss_history, label='Testing Loss')\n",
        "plt.xlabel('Epochs')\n",
        "plt.ylabel('Loss')\n",
        "plt.title('Training and Testing Loss Curves')\n",
        "plt.legend()\n",
        "plt.grid(True)\n",
        "plt.show()"
      ]
    },
    {
      "cell_type": "code",
      "execution_count": null,
      "metadata": {
        "colab": {
          "base_uri": "https://localhost:8080/",
          "height": 54
        },
        "id": "Pks4YMiRNoQ5",
        "outputId": "7b40956b-2e19-4862-8b25-aca719945d50"
      },
      "outputs": [
        {
          "output_type": "display_data",
          "data": {
            "text/plain": [
              "<Figure size 500x300 with 1 Axes>"
            ],
            "image/png": "[encoded data removed]"
          },
          "metadata": {}
        }
      ],
      "source": [
        "# Plot the accuracy curves\n",
        "plt.figure(figsize=(5, 3))\n",
        "plt.plot(train_accuracy_history, label='Training Accuracy')\n",
        "plt.plot(test_accuracy_history, label='Test Accuracy')\n",
        "plt.xlabel('Epochs')\n",
        "plt.ylabel('Accuracy')\n",
        "plt.title('Training and Test Accuracy Curves')\n",
        "plt.legend()\n",
        "plt.grid(True)\n",
        "plt.show()"
      ]
    }
  ],
  "metadata": {
    "accelerator": "GPU",
    "colab": {
      "gpuType": "T4",
      "provenance": [],
      "include_colab_link": true
    },
    "kernelspec": {
      "display_name": "Python 3",
      "name": "python3"
    },
    "language_info": {
      "name": "python"
    }
  },
  "nbformat": 4,
  "nbformat_minor": 0
}